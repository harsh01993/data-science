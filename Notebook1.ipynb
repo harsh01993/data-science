{
 "cells": [
  {
   "cell_type": "code",
   "execution_count": 7,
   "id": "ca6eaaa5",
   "metadata": {},
   "outputs": [
    {
     "name": "stdout",
     "output_type": "stream",
     "text": [
      "lets start the jouney\n"
     ]
    }
   ],
   "source": [
    "#Exercise 1\n",
    "\n",
    "Var = \"lets start the jouney\"\n",
    "\n",
    "print(Var)"
   ]
  },
  {
   "cell_type": "code",
   "execution_count": 10,
   "id": "0b33537a",
   "metadata": {},
   "outputs": [
    {
     "name": "stdout",
     "output_type": "stream",
     "text": [
      "Python Tour\n",
      "New Python Tour\n"
     ]
    }
   ],
   "source": [
    "#Exercise 2\n",
    "\n",
    "Var1 = \"Python Tour\"\n",
    "\n",
    "print(Var1)\n",
    "\n",
    "#Exercise 2(par2)\n",
    "\n",
    "Var2 = Var1.replace(\"Python Tour\", \"New Python Tour\")\n",
    "\n",
    "print(Var2)\n",
    "    "
   ]
  },
  {
   "cell_type": "code",
   "execution_count": 56,
   "id": "19e57c21",
   "metadata": {},
   "outputs": [
    {
     "name": "stdout",
     "output_type": "stream",
     "text": [
      "\"Hello Impresive, would you to like to learn some python?\"\n"
     ]
    }
   ],
   "source": [
    "#Exercise 3\n",
    "Var = \"Impresive,\"\n",
    "\n",
    "print('\"Hello',Var,'would you to like to learn some python?\"',)"
   ]
  },
  {
   "cell_type": "code",
   "execution_count": 77,
   "id": "2653dc52",
   "metadata": {},
   "outputs": [
    {
     "name": "stdout",
     "output_type": "stream",
     "text": [
      "elbert Einstein once said,A person who never made a mistake never tried anyting new\n"
     ]
    }
   ],
   "source": [
    "#Exercise 4 &5\n",
    "Var = \"elbert Einstein\"\n",
    "\n",
    "print(\"{} once said,A person who never made a mistake never tried anyting new\".format(Var))"
   ]
  },
  {
   "cell_type": "code",
   "execution_count": 79,
   "id": "91898dcb",
   "metadata": {},
   "outputs": [
    {
     "name": "stdout",
     "output_type": "stream",
     "text": [
      "8\n",
      "8\n",
      "8.0\n",
      "8\n"
     ]
    }
   ],
   "source": [
    "#Exercise 6\n",
    "\n",
    "print(5+3)\n",
    "print(4*2)\n",
    "print(16/2)\n",
    "print(12-4)\n"
   ]
  },
  {
   "cell_type": "code",
   "execution_count": 84,
   "id": "34555bc7",
   "metadata": {},
   "outputs": [
    {
     "name": "stdout",
     "output_type": "stream",
     "text": [
      "my favourite number is 25\n"
     ]
    }
   ],
   "source": [
    "#Exercise 7\n",
    "Var = 25\n",
    "\n",
    "print(\"my favourite number is {}\".format(Var))"
   ]
  },
  {
   "cell_type": "code",
   "execution_count": 5,
   "id": "b342cab3",
   "metadata": {},
   "outputs": [
    {
     "name": "stdout",
     "output_type": "stream",
     "text": [
      "jasmeen\n",
      "anubhav\n",
      "Vipul\n"
     ]
    }
   ],
   "source": [
    "#Exercise 9\n",
    "list_friends = ['jasmeen','anubhav','Vipul']\n",
    "\n",
    "print(list_friends[0])\n",
    "print(list_friends[1])\n",
    "print(list_friends[2])"
   ]
  },
  {
   "cell_type": "code",
   "execution_count": 10,
   "id": "de136d5c",
   "metadata": {},
   "outputs": [
    {
     "name": "stdout",
     "output_type": "stream",
     "text": [
      "My best friend is jasmeen\n",
      "My best friend is anubhav\n",
      "My best friend is Vipul\n"
     ]
    }
   ],
   "source": [
    "#Exercise 10\n",
    "for Message in list_friends:\n",
    "    print(\"My best friend is\",Message)"
   ]
  },
  {
   "cell_type": "code",
   "execution_count": 21,
   "id": "6f4bbdec",
   "metadata": {},
   "outputs": [
    {
     "name": "stdout",
     "output_type": "stream",
     "text": [
      "ferrarai Horse power is 296\n",
      "bentley Horse power is 542\n"
     ]
    }
   ],
   "source": [
    "Collection =[\"ferrarai\",296],[\"bentley\",542]\n",
    "for car,CC in Collection:\n",
    "    print(car,\"Horse power is\",CC,)"
   ]
  },
  {
   "cell_type": "code",
   "execution_count": null,
   "id": "8fd9b142",
   "metadata": {},
   "outputs": [],
   "source": []
  }
 ],
 "metadata": {
  "kernelspec": {
   "display_name": "Python 3 (ipykernel)",
   "language": "python",
   "name": "python3"
  },
  "language_info": {
   "codemirror_mode": {
    "name": "ipython",
    "version": 3
   },
   "file_extension": ".py",
   "mimetype": "text/x-python",
   "name": "python",
   "nbconvert_exporter": "python",
   "pygments_lexer": "ipython3",
   "version": "3.9.12"
  }
 },
 "nbformat": 4,
 "nbformat_minor": 5
}
